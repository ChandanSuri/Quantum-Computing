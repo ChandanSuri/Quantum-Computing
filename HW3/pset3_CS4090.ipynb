{
 "cells": [
  {
   "cell_type": "code",
   "execution_count": 1,
   "id": "37f786fa",
   "metadata": {},
   "outputs": [],
   "source": [
    "%run utils.py"
   ]
  },
  {
   "cell_type": "markdown",
   "id": "8aa3839d",
   "metadata": {},
   "source": [
    "#### COMS 4281 - Intro to Quantum Computing \n",
    "\n",
    "# Problem Set 3, Quantum Algorithms\n",
    "\n",
    "### Due: November 2, 11:59pm.\n",
    "Collaboration is allowed and encouraged (teams of at most 3).  Please read the syllabus carefully for the guidlines regarding collaboration.  In particular, everyone must write their own solutions in their own words.\n",
    "\n",
    "### Name: Chandan Suri, UNI: CS4090\n",
    "\n",
    "### Write your collaborators here:\n",
    "AS6413\n",
    "\n",
    "$\\newcommand{\\ket}[1]{\\left|{#1}\\right\\rangle} \\newcommand{\\bra}[1]{\\left\\langle{#1}\\right|}$\n",
    "$\\newcommand{\\C}{{\\mathbb{C}}}$\n",
    "$\\newcommand{\\N}{{\\mathbb{N}}}$\n",
    "$\\newcommand{\\F}{{\\mathbb{F}}}$\n",
    "$\\newcommand{\\K}{{\\mathbb{K}}}$\n",
    "$\\newcommand{\\R}{{\\mathbb{R}}}$\n",
    "$\\newcommand{\\Z}{{\\mathbb{Z}}}$"
   ]
  },
  {
   "cell_type": "markdown",
   "id": "041be559",
   "metadata": {},
   "source": [
    "# Problem 1: Basic Fourier Math"
   ]
  },
  {
   "cell_type": "markdown",
   "id": "f2e5072c",
   "metadata": {},
   "source": [
    "## Problem 1.1\n",
    "\n",
    "For two strings $x, y \\in \\{0,1\\}^n$, let $x \\cdot y$ denote \n",
    "$$\n",
    "    x_1 y_1 + x_2 y_2 + \\cdots + x_n y_n \\text{ mod } 2.\n",
    "$$\n",
    "\n",
    "Prove that for all $x \\in \\{0,1\\}^n$, \n",
    "$$\n",
    "    \\sum_{y \\in \\{0,1\\}^n} (-1)^{x \\cdot y} = \\begin{cases} 0 & \\text{ if $x \\neq 0^n$} \\\\ 2^n & \\text{ if $x = 0^n$} \\end{cases}\n",
    "$$"
   ]
  },
  {
   "cell_type": "markdown",
   "id": "1a2695b6",
   "metadata": {},
   "source": [
    "## Solution\n",
    "\n",
    "Considering both the cases:\n",
    "\n",
    "If $x = 0^n$,\n",
    "\n",
    "As $x_1 = x_2 = x_3 =$ ... $= x_n = 0$, $x.y = \\text{0 mod 2} = 0$.\n",
    "\n",
    "This makes the summation as:\n",
    "\n",
    "$$\n",
    "    \\sum_{y \\in \\{0,1\\}^n} (-1)^{x \\cdot y} = \\sum_{y \\in \\{0,1\\}^n} (-1)^0 = \\sum_{y \\in \\{0,1\\}^n} 1\n",
    "$$\n",
    "\n",
    "As total possible combinations of y can be $2^n$, so, the 1 will be summed up that many times which can be computed to be:\n",
    "\n",
    "$$\n",
    "    \\sum_{y \\in \\{0,1\\}^n} 1 = 2^n\n",
    "$$\n",
    "\n",
    "Coming to the 2nd case if $x \\neq 0^n$,\n",
    "\n",
    "We will prove the same by induction:\n",
    "\n",
    "Base case: when n = 1, this means that $x_1 \\neq 0$, therefore $x_1 = 1$.\n",
    "\n",
    "Then $x.y = x_1y_1 \\text{mod 2} = 1.y_1 \\text{mod 2} = y_1 \\text{mod 2}$\n",
    "\n",
    "Thus, the summation becomes:\n",
    "$$\n",
    "    \\sum_{y \\in \\{0,1\\}^1} (-1)^{y \\text{mod 2}}\n",
    "$$\n",
    "\n",
    "Since, y can take on 2 values, this becomes:\n",
    "$$\n",
    "    \\sum_{y \\in \\{0,1\\}^1} (-1)^{y \\text{mod 2}} = (-1)^{0 \\text{mod 2}} + (-1)^{1 \\text{mod 2}} = 0\n",
    "$$\n",
    "\n",
    "Now, for the inductive case, let's take the assumption for some k, when $x \\neq 0^k$,\n",
    "\n",
    "let:\n",
    "$$\n",
    "    \\sum_{y \\in \\{0,1\\}^k} (-1)^{x \\cdot y} = 0\n",
    "$$\n",
    "\n",
    "So, for $n=k+1$,\n",
    "$$\n",
    "    \\sum_{y \\in \\{0,1\\}^{k+1}} (-1)^{x \\cdot y} = \\sum_{y \\in \\{0,1\\}^k} (-1)^{x \\cdot y} + \\sum_{y_{k+1} \\in \\{0,1\\}} (-1)^{x_{k+1} \\cdot y_{k+1}}\n",
    "$$\n",
    "Here, $y_{k+1}$ can take values similar to the one in the base case which makes the second term zero and the first term being zero was our assumption which makes this as:\n",
    "$$\n",
    "    \\sum_{y \\in \\{0,1\\}^{k+1}} (-1)^{x \\cdot y} = 0\n",
    "$$\n",
    "Therefore, by induction we have proven that:\n",
    "$$\n",
    "    \\sum_{y \\in \\{0,1\\}^n} (-1)^{x \\cdot y} = 0\n",
    "$$\n",
    "when $x \\neq 0^n$.\n",
    "\n",
    "Thus, we have proven both the cases as shown above."
   ]
  },
  {
   "cell_type": "markdown",
   "id": "c7be7446",
   "metadata": {},
   "source": [
    "## Problem 1.2\n",
    "Let $\\omega_n = \\exp \\Big(\\frac{2 \\pi i}{n} \\Big)$ denote the $n$-th root of unity. Prove that for all integers $j$,\n",
    "\n",
    "$$\\sum_{k=0}^{n-1} \\omega_n^{jk} = \\begin{cases} 0  & \\mbox{if $j$ is not a multiple of $n$} \\\\ n & \\mbox{if $j$ is a multiple of $n$} \\end{cases}$$\n"
   ]
  },
  {
   "cell_type": "markdown",
   "id": "26810088",
   "metadata": {},
   "source": [
    "## Solution\n",
    "\n",
    "Considering both the cases:\n",
    "\n",
    "If j is a multiple of n:\n",
    "\n",
    "we can write $j = an$ where a is any integer.\n",
    "\n",
    "Furthermore,\n",
    "$$\n",
    "\\sum_{k=0}^{n-1} \\omega_n^{jk} = \\sum_{k=0}^{n-1} \\omega_n^{ank} = \\sum_{k=0}^{n-1} (\\omega_n^{n})^{ak}\n",
    "$$\n",
    "\n",
    "Since, $\\omega_n^{n} = 1$, we have the same as:\n",
    "$$\n",
    "= \\sum_{k=0}^{n-1} 1^{ak} = \\sum_{k=0}^{n-1} 1 = n\n",
    "$$\n",
    "Thus, we have proven the first case when j is a multiple of n.\n",
    "\n",
    "Going over to the second case when j is not a multiple of n:\n",
    "\n",
    "What we get here is basically the geometric progression which can be computed as follows:\n",
    "$$\n",
    "\\sum_{k=0}^{n-1} \\omega_n^{jk} = \\omega_n^0 * \\frac{\\omega_n^{jn} - 1}{\\omega_n^j - 1}\n",
    "$$\n",
    "\n",
    "Again, since $\\omega_n^{n} = 1$, the numerator in the formulation above becomes zero thus giving us the following:\n",
    "$$\n",
    "\\omega_n^0 * \\frac{\\omega_n^{jn} - 1}{\\omega_n^j - 1} = \\omega_n^0 * \\frac{1^{j} - 1}{\\omega_n^j - 1} = 0\n",
    "$$\n",
    "Thus, we have proven the second case as well where j is not a multiple of n."
   ]
  },
  {
   "cell_type": "markdown",
   "id": "64a1606a",
   "metadata": {},
   "source": [
    "## Problem 1.3\n",
    "\n",
    "Let $N$ denote a positive integer between $2^{n-1}$ and $2^n$, and let $1 \\leq x \\leq N-1$ denote an integer such that $\\mathrm{gcd}(x,N) = 1$ (meaning that $x$ is coprime to $N$). Let $r$ be the order of $x$ modulo $N$; meaning that $x^r \\equiv 1 \\text{ mod } N$ (i.e., dividing $x^r$ by $N$ yields a remainder of $1$). Recall the unitary map acting on $n$ qubits such that for all $0 \\leq y < 2^n$,\n",
    "\n",
    "$$U_x \\ket{y} = \\begin{cases}\n",
    "\t\t\\ket{xy \\text{ mod } N}  & \\mbox{if } y < N \\\\\n",
    "\t\t\\ket{y} & \\mbox{otherwise}\n",
    "\t\\end{cases}$$\n",
    "    \n",
    "    \n",
    "and recall the eigenvectors\n",
    "\n",
    "$$\\ket{u_s} = \\frac{1}{\\sqrt{r}} \\sum_{k=0}^{r-1} \\omega_r^{ks} \\ket{x^k \\text{ mod } N}~.$$\n",
    "\n",
    "Show that \n",
    "\n",
    "$$\\frac{1}{\\sqrt{r}} \\sum_{s=0}^{r-1} \\ket{u_s} = \\ket{1}~.$$\n"
   ]
  },
  {
   "cell_type": "markdown",
   "id": "25bc928a",
   "metadata": {},
   "source": [
    "## Solution\n",
    "\n",
    "Let's take the formulation above to prove:\n",
    "$$\n",
    "\\frac{1}{\\sqrt{r}} \\sum_{s=0}^{r-1} \\ket{u_s}\n",
    "$$\n",
    "\n",
    "Substituting the value of $\\ket{u_s}$ gives us:\n",
    "$$\n",
    "\\frac{1}{r}\\sum_{s=0}^{r-1} \\sum_{k=0}^{r-1} \\omega_r^{ks} \\ket{x^k \\text{ mod } N}\n",
    "$$\n",
    "\n",
    "Taking out the term for $k=0$ as that's the simple part of the equation gives us:\n",
    "$$\n",
    "\\frac{1}{r}(1 + 1 + ... + 1 \\text{ r times})\\ket{1}+ \\frac{1}{r} \\sum_{s=0}^{r-1} \\sum_{k=1}^{r-1} \\omega_r^{ks} \\ket{x^k \\text{ mod } N}\n",
    "$$\n",
    "\n",
    "This gives us the following:\n",
    "$$\n",
    "\\frac{1}{r}.r\\ket{1}+ \\frac{1}{r} \\sum_{s=0}^{r-1} \\sum_{k=1}^{r-1} \\omega_r^{ks} \\ket{x^k \\text{ mod } N} = \\ket{1}+ \\frac{1}{r} \\sum_{s=0}^{r-1} \\sum_{k=1}^{r-1} \\omega_r^{ks} \\ket{x^k \\text{ mod } N}\n",
    "$$\n",
    "\n",
    "Rearranging the summations in the second term gives us the following:\n",
    "$$\n",
    "\\ket{1}+ \\frac{1}{r} \\sum_{k=1}^{r-1}\\ket{x^k \\text{ mod } N}\\sum_{s=0}^{r-1}   \\omega_r^{ks}\n",
    "$$\n",
    "\n",
    "The second summation basically gives us a geometric progression, using the formulation for the same gives us:\n",
    "$$\n",
    "\\ket{1}+ \\frac{1}{r} \\sum_{k=1}^{r-1}\\ket{x^k \\text{ mod } N}\\left(\\omega_r^{0} *\\frac{\\omega_r^{rk} - 1}{\\omega_r^{k} - 1}\\right)\n",
    "$$\n",
    "\n",
    "Now, since $\\omega_r^{r} = 1$, the geometric progression sums to a value of zero as shown below:\n",
    "$$\n",
    "\\ket{1} + \\frac{1}{r} \\sum_{k=1}^{r-1}\\ket{x^k \\text{ mod } N}*0 = \\ket{1}\n",
    "$$\n",
    "\n",
    "Thus, we prove that:\n",
    "$$\n",
    "\\frac{1}{\\sqrt{r}} \\sum_{s=0}^{r-1} \\ket{u_s} = \\ket{1}\n",
    "$$"
   ]
  },
  {
   "cell_type": "markdown",
   "id": "d3e82e3c",
   "metadata": {},
   "source": [
    "## Problem 1.4\n",
    "\n",
    "Recall the Fourier Transform unitary $F_N$ that acts as follows: for all $0 \\leq j < N$,\n",
    "\n",
    "$$F_N \\ket{f_j} = \\ket{j}$$\n",
    "\n",
    "where \n",
    "\n",
    "$$\\ket{f_j} = \\frac{1}{\\sqrt{N}} \\sum_{k=0}^{N-1} \\omega_N^{-jk} \\, \\ket{k}~.$$\n",
    "\n",
    "Compute the vector $F_N \\ket{j}$.\n",
    "\n",
    "**Note**: The definition of $\\ket{f_j}$ differs from the one presented in class, because the exponent of $\\omega_N$ is $-jk$ rather than $jk$. "
   ]
  },
  {
   "cell_type": "markdown",
   "id": "595c272a",
   "metadata": {},
   "source": [
    "## Solution\n",
    "\n",
    "As taught in class, we know that the Fourier Transform unitary $F_N$ is basically the change of basis matrix here.\n",
    "\n",
    "This would give us the obvious fact that the $(m,n)$th entry in $F_N$ ($F_{m,n}$) is given by the coefficients of $\\ket{m}$ when the $\\ket{f_n}$ is written in terms of the standard basis.\n",
    "Even with the negative sign in the exponent, using the expression for $\\ket{f_j}$ it basically gives us that $F_N$ is symmetric as $F_{m,n}=F_{n,m}=\\omega_N^{mj}$.\n",
    "\n",
    "Translating the indices for $F_N$ as i and j and based on the above finding, we can write the expressions as follows:\n",
    "$$\n",
    "F_N^TF_N\\ket{f_j}=F_N^T\\ket{j}\n",
    "$$\n",
    "Since the omega values are roots of unity and multiplying the transpose of a matrix with itself gives us an indentity matrix (also as $F_N$ is symmetric, the transpose will essentially be same as the matrix itself) as shown below:\n",
    "$$\n",
    "I.\\ket{f_j}=F_N\\ket{j}\n",
    "$$\n",
    "This gives us:\n",
    "$$\n",
    "\\ket{f_j}=F_N\\ket{j}\n",
    "$$\n",
    "\n",
    "Therefore, we find that:\n",
    "\n",
    "$F_N\\ket{j}$ can be computed as the vector $\\ket{f_j}$."
   ]
  },
  {
   "cell_type": "markdown",
   "id": "20e6fa44",
   "metadata": {},
   "source": [
    "# Problem 2: Modified Simon's Algorithm"
   ]
  },
  {
   "cell_type": "markdown",
   "id": "3083d35d",
   "metadata": {},
   "source": [
    "In this problem you will analyze a variant of Simon's Problem. Suppose you are given black-box query access to a function $f : \\{ 0, 1\\}^n \\rightarrow \\{ 0, 1\\}^n$ that encodes **two** secrets $s,t \\in \\{0,1\\}^n$. This means that \n",
    "\n",
    "$$\n",
    "    f(x) = f(y) \\qquad \\text{if and only if } \\qquad x + y \\in \\{0^n, s,t, s + t \\}\n",
    "$$\n",
    "\n",
    "We will assume that $s,t$ are both nonzero and are not equal to each other. \n",
    "\n",
    "**Note**: the sum $x+y$ of two bit strings is another string where we've XOR'd the coordinates of $x$, $y$."
   ]
  },
  {
   "cell_type": "markdown",
   "id": "bded6986",
   "metadata": {},
   "source": [
    "## Problem 2.1\n",
    "\n",
    "Given such a function $f$, what is the size of its range? Meaning, how many possible strings can be output by $f$?"
   ]
  },
  {
   "cell_type": "markdown",
   "id": "46aa6eef-9945-404b-81e4-ff3531555544",
   "metadata": {},
   "source": [
    "## Solution\n",
    "\n",
    "For calculating the size of it's range, I will be taking some assumptions:\n",
    "\n",
    "If $s,t$ are both non-zero and unique as given in the question (assumption), then for any $x\\in\\{0,1\\}^n$:\n",
    "\n",
    "$x,x+s,x+t,x+s+t$ are distinct elements in $\\{0,1\\}^n$\n",
    "\n",
    "Also, for the function f, if we are taking these secrets into consideration, then $x,x+s,x+t,x+s+t$ are mapped to the same value of f since $ f(x) = f(y)$ for these.\n",
    "\n",
    "Additionally, no other bit string with n elements can be mapped to this same value.\n",
    "\n",
    "Therefore, the range of f contains $2^{n-2}$ n-bit strings."
   ]
  },
  {
   "cell_type": "markdown",
   "id": "716b0d2e",
   "metadata": {},
   "source": [
    "## Problem 2.2\n",
    "\n",
    "Write a classical + quantum hybrid algorithm that makes $\\mathrm{poly}(n)$ queries to $f$ and outputs, with high probability, the secrets $s,t$. You should use Simon's Algorithm for inspiration."
   ]
  },
  {
   "cell_type": "markdown",
   "id": "9925c17f",
   "metadata": {},
   "source": [
    "## Solution\n",
    "\n",
    "A classical + quantum hybrid algorithm can be derived from Simon's algorithm itself.\n",
    "\n",
    "Going forward if we keep the Simons subroutine to be the same while only changing the classical part of post-processing. As now, we have two secrets encoded here, each query or call made to the circuit will basically yield 2 linear equations instead of just one. These linear equations will be of the form:\n",
    "$$\n",
    "y\\cdot s =0\n",
    "$$ and,\n",
    "$$\n",
    "y\\cdot t=0\n",
    "$$\n",
    "\n",
    "As we can see above, the number of linear equations will be doubled along with the number of variables being doubled. As we have a system of linear of equations, now solving which would give us the result accordingly. So, only the classical post-processing part changes here essentially. \n",
    "\n",
    "Furthermore, this also means that this algorithm with modification will also yield the results with high probability as the original algorithm."
   ]
  },
  {
   "cell_type": "markdown",
   "id": "12d281f3",
   "metadata": {},
   "source": [
    "## Problem 2.3\n",
    "\n",
    "Prove that your algorithm works."
   ]
  },
  {
   "cell_type": "markdown",
   "id": "d412fd41",
   "metadata": {},
   "source": [
    "## Solution\n",
    "\n",
    "Following the formulation for Simon's algorithm from class, the state before measurement will be:\n",
    "$$\n",
    "\\frac{1}{2^n}\\sum_x\\sum_y (-1)^{x\\cdot y}\\ket{y}\\ket{f(x)}\n",
    "$$\n",
    "\n",
    "If we consider A to be the range of function $f$, we can re-write the above state before measurement as:\n",
    "$$\n",
    "\\frac{1}{2^n}\\sum_{a\\in A}\\sum_y[(-1)^{x_a.y}+(-1)^{(x_a+s).y}+(-1)^{(x_a+t).y}+(-1)^{(x_a+s+t).y}]\\ket{y}\\ket{a}\n",
    "$$\n",
    "\n",
    "Now, if we do the measurement, then measuring the qubits corresponding to $a$ will yield the following:\n",
    "$$\n",
    "\\frac{1}{2^n}\\sum_y[(-1)^{x_a.y}+(-1)^{(x_a+s).y}+(-1)^{(x_a+t).y}+(-1)^{(x_a+s+t).y}]\\ket{y}\n",
    "$$\n",
    "\n",
    "As we can see, the $(-1)^{x_a.y}$ is common to all the terms inside the summation which can be factorized out giving us the following:\n",
    "$$\n",
    "\\frac{1}{2^n}\\sum_y[(-1)^{x_a.y}(1 + (-1)^{s.y}+(-1)^{t.y}+(-1)^{(s+t).y})]\\ket{y}\n",
    "$$\n",
    "\n",
    "Factoring it further will give us the following:\n",
    "$$\n",
    "\\frac{1}{2^n}\\sum_y (-1)^{x_a.y}\\left[1+(-1)^{t.y}\\right]\\left[1+(-1)^{s.y}\\right]\\ket{y}\n",
    "$$\n",
    "\n",
    "Following the formulation above:\n",
    "\n",
    "If $s.y\\neq 0$, then $s.y = 1$ which would make the complete expression zero yielding us nothing.\n",
    "\n",
    "Next, if $t.y\\neq 0$, then $t.y = 1$ which would make the complete expression again zero yielding us nothing.\n",
    "\n",
    "Therefore, after we measure the $n$ qubits, we will only see $y$ when all the system of equations are satisfied meaning $y.s=0$ and $y.t=0$.\n",
    "\n",
    "Therefore, we have proven that our algorithm will work."
   ]
  },
  {
   "cell_type": "markdown",
   "id": "26e2c6a8",
   "metadata": {},
   "source": [
    "## Problem 2.4"
   ]
  },
  {
   "cell_type": "markdown",
   "id": "7505d1b6",
   "metadata": {},
   "source": [
    "What if we now considered the situation where the function $f$ is hiding not two but $k$ secrets $s^{(1)}, \\ldots, s^{(k)}$ (which are all nonzero and distinct strings). How would your answers to 7.2 and 7.3 change?"
   ]
  },
  {
   "cell_type": "markdown",
   "id": "cc2a0f4e",
   "metadata": {},
   "source": [
    "## Solution\n",
    "\n",
    "When we have k secrets, our algorithm again won't change a lot.\n",
    "\n",
    "Again, the Simon's subroutine will stay the same and only the classical part of post-processing will change. Now, each measurement will give us k linear equations rather than just two. \n",
    "\n",
    "The proof of the algorithm will also mostly remain the same, the only change will be in the final post measurement state in the form of the range of the function as follows:\n",
    "$$\n",
    "\\frac{1}{2^n}\\sum_y (-1)^{x_a.y}\\prod_{i=1}^k[1+(-1)^{s^{(i)}.y}]\\ket{y}\n",
    "$$"
   ]
  },
  {
   "cell_type": "markdown",
   "id": "99784e79",
   "metadata": {},
   "source": [
    "# Problem 3: Quantum Minimum Finding\n",
    "\n",
    "## Problem 3.1\n",
    "Let $M \\geq 2$ be an integer. Devise a quantum algorithm that, in expectation, makes $O(\\sqrt{N})$ queries to a function $f:\\{0,1\\}^n \\to \\{0,1,\\ldots,M-1\\}$, and computes $\\min_x f(x)$. You can assume that $f$ is injective. \n",
    "\n",
    "__Hint__: Use that Grover's algorithm, when run on a function $g:\\{0,1\\}^n \\to \\{0,1\\}$ with $T$ solutions, outputs a uniformly random $x$ such that $g(x)=1$ using $c \\sqrt{N/T}$ queries in expectation for some constant $c$.\n",
    "    \n",
    "__Hint__: Your algorithm can have unbounded running time; you just need to show that the _expected_ number of queries before the algorithm finds the minimum is $O(\\sqrt{N})$."
   ]
  },
  {
   "cell_type": "markdown",
   "id": "58b17e60",
   "metadata": {},
   "source": [
    "## Solution\n",
    "\n",
    "The algorithm derived is as follows:\n",
    "1. Choose an initial threshold y in the range $0 \\leq y \\leq 2^n$.\n",
    "2. As Grover's algorithm works with boolean function, we will chhange our function to a boolean one such that it minimizes $f(x)$ as shown below:\n",
    "$$\n",
    "g(f(x)) = \\begin{cases} 1 & \\text{if f(x) <= f(y)} \\\\ 0 & \\text{otherwise} \\end{cases}\n",
    "$$\n",
    "3. Although it's given that the function is injective, we will need to reduce our solution space one by one and thus, reduce the span of candidate solutions. Using the hint for Grover's algorithm as stated above for $T$ solutions, we will need to make $c\\sqrt{N/T}$ queries to the oracle. Initially, we take the value of T to be any random value between $0$ and $\\sqrt{N}$.\n",
    "4. We will use grover's iterate here involving the oracle calls and the diffusion gate in pairs. We will append the oracle and diffusion gate (in pairs) to the circuit $\\sqrt{N/T}$ number of times. This basically means that we run the grover's algorithm some constant number of times with the algorithm's complexity as $O(\\sqrt{N})$. The oracle used is shown below:\n",
    "$$\n",
    "O_f = (-1)^{g(f(x))} \\ket{x}\n",
    "$$\n",
    "5. We will look at the output of the Grover's algorithm ($y'$) and check if $f(y') < f(y)$ and we update y if that's the case. This wouldn't necessarily give us the global minima and thus, we might have to repeat the step for smaller set of candidate solutions.\n",
    "6. We will repeat step 4 and 5 above some constant number of times which should give us the correct result with high probability. In the proposed solution above, we make at most $\\sqrt{N}$ calls to the oracle and we just need to run the same some constant number of times in order to get the global minima with high probability. Thus, the complexity of the algorithm will be $O(\\sqrt{N})$.\n",
    "\n",
    "In our implementation below in Problem 3.3, I halve the T value after each iteration so as to get some factor of repeats. This version of implementation doesn't produce the minima with $100%$ probability but gives us the same with some high probability. For getting the minima with even higher probability, we increase the constant number of times we have to make calls to the algorithm as a whole while maintaining the $O(\\sqrt{N})$ calls to the oracle. Thus, the expected number of calls or queries made before we get the minima will still remain of the order $O(\\sqrt{N})$. A very similar algorihtm published by Christoph Durr and Peter Hoyer was shown to find the minima with $22.5*O(\\sqrt{N})$ complexity with the constant shown there. The paper for the same can be found here: https://arxiv.org/pdf/quant-ph/9607014.pdf"
   ]
  },
  {
   "cell_type": "markdown",
   "id": "03177fdd",
   "metadata": {},
   "source": [
    "## Problem 3.2\n",
    "\n",
    "Show that, assuming that Grover's algorithm is optimal for unstructured search (meaning that any quantum algorithm finding a preimage of $f:\\{0,1\\}^n \\to \\{0,1\\}$ requires $\\Omega(\\sqrt{N})$ queries to $f$), any quantum algorithm that finds the minimum of a function with high probability must also make $\\Omega(\\sqrt{N})$ queries."
   ]
  },
  {
   "cell_type": "markdown",
   "id": "f396e3e3",
   "metadata": {},
   "source": [
    "## Solution\n",
    "\n",
    "First of proving the same would be through contradiction:\n",
    "\n",
    "Assuming that the grover's algorithm is optimal for unstructured search problems and that there exits a quantum algorithm that finds the minima a function with high probability but makes less than $\\Omega(\\sqrt{N})$ queries. Following the same, finding the minima of a function with high probability will not fall under the umbrella of unstructured search. Let's move forward then:\n",
    "\n",
    "To prove the same, let's analyze the problem under consideration:\n",
    "\n",
    "If we have a function $f$ such that it is a strinctly increasing function, then we know for sure that $f$ is injective. We can find the minima of this function for all x and y as if $x < y$, then, $f(x) < f(y)$. Our algorithm would still make an order of $\\sqrt{N}$ queries to the oracle while a classical algorithm will be able to give the solution in constant time. However, this kind of problem falls under the structured search problems as the function has a structure to it.\n",
    "\n",
    "Furthermore, since we know that there exists an algorithm that finds the minima of a function with high probability but makes a single query to the oracle function f. However, if we solely focus on unstructured search problem as there is no structure to the data here (meaning strictly increasing or strictly decreasing), then assuming that grover's algorithm is the optimal one for unstructured search, then we can show the same that there exists a quantum algorithm that will have to make $\\Omega(\\sqrt{N})$ queries and we cannot go below this. Thus, for any quantum algorithm that finds the minima of a function with high probability must also make $\\Omega(\\sqrt{N})$ queries.\n",
    "\n",
    "Another way of proving the same is described below:\n",
    "\n",
    "As we have done above, we know that an unstructured search problem can be converted to a minima finding algorithm. We can do so by actually mapping the value of 0 (output of the function) to the marked input that is the minima (preimage value) and mapping all other values greater than the marked input (in this case that's $\\{1,2,...,N-1\\}$) as to the other bit strings of the function (the pre-images). Now, we know that if this kind of unstructured search problem can be solved with less than $\\Omega(\\sqrt{N})$ queries to the oracle by any other quantum algorithm, then that would imply that Grover's algorithm is not an optimal algorithm for unstructured search problem which is our assumption for the proof.\n",
    "\n",
    "So, in the first part above, we contradicted one part of the assumption and proved that it's wrong and in the second part, we contradicted another part of the assumption and disproved as well. This gives us the complete proof that any quantum algorithm that finds the minimum of a function with high probability must also make   $\\Omega(\\sqrt{N})$ queries."
   ]
  },
  {
   "cell_type": "markdown",
   "id": "081477c0",
   "metadata": {},
   "source": [
    "## Problem 3.3 \n",
    "\n",
    "Now let's implement our minimum finding algorithm for arbitrary 5 qubit functions.  Below are helpers for converting functions into quantum oracles, and an implementation of the Grover's Diffusion gate, use those to help you implement minimum search, and test is on the examples given below.\n",
    "\n",
    "For fun, track the number of oracle calls you use (num_oracle_calls), but you won't lose points for using too many oracle calls if your solution is correct asymptotically."
   ]
  },
  {
   "cell_type": "code",
   "execution_count": 2,
   "id": "2e90a2c0",
   "metadata": {},
   "outputs": [],
   "source": [
    "num_oracle_calls = 0\n",
    "\n",
    "def inc_num_oracle_calls():\n",
    "    global num_oracle_calls\n",
    "    num_oracle_calls += 1\n",
    "    \n",
    "def reset_num_oracle_calls():\n",
    "    global num_oracle_calls\n",
    "    num_oracle_calls = 0\n",
    "\n",
    "def append_oracle(input_circuit: QuantumCircuit,\n",
    "                  f: Callable[[int], bool],\n",
    "                  quantum_registers: List[int]) -> QuantumCircuit:\n",
    "    '''\n",
    "    append_oracle takes a boolean function (with inputs from 0 to 31) and appends a f-oracle to your circuit.\n",
    "    '''\n",
    "    inc_num_oracle_calls()\n",
    "    oracle_gate = UnitaryGate(np.diag([(-1)**f(i) for i in range(32)]))\n",
    "    input_circuit.append(oracle_gate, quantum_registers)\n",
    "    return input_circuit\n",
    "\n",
    "def append_diffusion_gate(input_circuit: QuantumCircuit, \n",
    "                          quantum_registers: List[int]) -> QuantumCircuit:\n",
    "    '''\n",
    "    Takes an input circuit and appends a diffusion gate to the registers.\n",
    "    The quantum registers must be length 5.\n",
    "    '''\n",
    "    if len(quantum_registers) != 5:\n",
    "        return None\n",
    "    for i in quantum_registers:\n",
    "        input_circuit.h(i)\n",
    "    diffuse = -1*np.eye(32)\n",
    "    diffuse[0,0] = 1\n",
    "    input_circuit.append(UnitaryGate(diffuse), quantum_registers)\n",
    "    for i in quantum_registers:\n",
    "        input_circuit.h(i)\n",
    "    return input_circuit\n",
    "\n",
    "def get_most_likely_outcome(quantum_circuit: QuantumCircuit) -> int:\n",
    "    backend = Aer.get_backend('qasm_simulator')\n",
    "    job_sim = backend.run(transpile(quantum_circuit, backend), shots=5024)\n",
    "    result_sim = job_sim.result()\n",
    "    counts = result_sim.get_counts(quantum_circuit)\n",
    "    return int(max(counts, key = counts.get), 2)"
   ]
  },
  {
   "cell_type": "markdown",
   "id": "5f081344",
   "metadata": {},
   "source": [
    "## Solution"
   ]
  },
  {
   "cell_type": "code",
   "execution_count": 55,
   "id": "1840a1d0",
   "metadata": {},
   "outputs": [],
   "source": [
    "### ======== BEGIN CODE =============\n",
    "'''\n",
    "Below are some suggested templates for functions that would be useful to implement.\n",
    "You don't have to use them if you don't want\n",
    "\n",
    "'''\n",
    "\n",
    "def grovers_search_known_sols(f: Callable[[int], bool], num_sols: int) -> int:\n",
    "    '''\n",
    "    Runs Grovers search, assuming there are num_sols number of solutions (we'll search over this.)\n",
    "    Assumes that the input space is dimension 32.\n",
    "    '''\n",
    "\n",
    "def grovers_search(f: Callable[[int], bool]) -> int:\n",
    "    '''\n",
    "    Runs Grovers search with an unknown number of solutions by halving the guessed number of solutions each try.\n",
    "    Returns -1 if no answer is found.\n",
    "    '''\n",
    "    \n",
    "### ======== END CODE =============\n",
    "            \n",
    "def find_min(f: Callable[[int], int]) -> int:\n",
    "    reset_num_oracle_calls()\n",
    "    y = random.randrange(0, 32)\n",
    "    n = 5\n",
    "    \n",
    "    ### ======== BEGIN CODE =============\n",
    "    \n",
    "    T = random.randrange(0, int(2**n))\n",
    "    \n",
    "    while T > 0:\n",
    "        qr = QuantumRegister(n, 'q')\n",
    "        cr = ClassicalRegister(n, 'c') \n",
    "        circuit = QuantumCircuit(qr, cr)\n",
    "\n",
    "        circuit.h(qr)\n",
    "        num_iters = int(math.sqrt(2**n/T))\n",
    "        for counter in range(num_iters):\n",
    "            circuit = append_oracle(circuit, lambda x: f(x) < f(y), qr)\n",
    "            circuit = append_diffusion_gate(circuit, qr)\n",
    "\n",
    "        circuit.measure(qr, cr)\n",
    "        y_new = get_most_likely_outcome(circuit)\n",
    "\n",
    "        if f(y_new) < f(y):\n",
    "            y = y_new\n",
    "        \n",
    "        T = T//2 \n",
    "    \n",
    "    ### ======== END CODE =============\n",
    "    \n",
    "    return y"
   ]
  },
  {
   "cell_type": "markdown",
   "id": "cd2aff28",
   "metadata": {},
   "source": [
    "Test your code on the following examples."
   ]
  },
  {
   "cell_type": "code",
   "execution_count": 56,
   "id": "0ffa5fa0",
   "metadata": {
    "scrolled": true
   },
   "outputs": [
    {
     "name": "stdout",
     "output_type": "stream",
     "text": [
      "Minimum of f2 is:  0\n",
      "Oracle calls used:  13\n"
     ]
    }
   ],
   "source": [
    "f1 = lambda x: x - 16\n",
    "print(\"Minimum of f2 is: \", find_min(f1))\n",
    "print(\"Oracle calls used: \", num_oracle_calls)"
   ]
  },
  {
   "cell_type": "code",
   "execution_count": 59,
   "id": "806fa3d9",
   "metadata": {},
   "outputs": [
    {
     "name": "stdout",
     "output_type": "stream",
     "text": [
      "Minimum of f2 is:  6\n",
      "Oracle calls used:  13\n"
     ]
    }
   ],
   "source": [
    "f2 = lambda x: x**2 - 13*x + 3\n",
    "print(\"Minimum of f2 is: \", find_min(f2))\n",
    "print(\"Oracle calls used: \", num_oracle_calls)"
   ]
  },
  {
   "cell_type": "code",
   "execution_count": 61,
   "id": "d630f0b7",
   "metadata": {},
   "outputs": [
    {
     "name": "stdout",
     "output_type": "stream",
     "text": [
      "Minimum of f3 is:  25\n",
      "Oracle calls used:  11\n"
     ]
    }
   ],
   "source": [
    "f3 = lambda x: 1.0 - np.sin(x / 16)\n",
    "print(\"Minimum of f3 is: \", find_min(f3))\n",
    "print(\"Oracle calls used: \", num_oracle_calls)"
   ]
  },
  {
   "cell_type": "markdown",
   "id": "b5ac5c65",
   "metadata": {},
   "source": [
    "# Problem 4: Exploring Order Finding\n",
    "\n",
    "In this problem, we'll explore the quantum algorithm for Order Finding (which is different from the one covered in class; in fact this one is closer to the way Peter Shor implemented it).  Consider the following function\n",
    "\n",
    "$$\n",
    "f(x) = 3^{x}\\text{ mod } 16\n",
    "$$\n",
    "\n",
    "where $x$ ranges from $0$ to $15$, so that $x$ can be represented using $4$ bits. "
   ]
  },
  {
   "cell_type": "markdown",
   "id": "3b681431",
   "metadata": {},
   "source": [
    "## Problem 4.1\n",
    "\n",
    "What is the period $r$ of this function? Meaning, what value of $r$ is such that $f(x + r) = f(x)$ for all $x$?"
   ]
  },
  {
   "cell_type": "markdown",
   "id": "a85f0607",
   "metadata": {},
   "source": [
    "## Solution\n",
    "\n",
    "<table>\n",
    "    <tr>\n",
    "        <td>\n",
    "            x\n",
    "        </td>\n",
    "        <td>\n",
    "            f(x)\n",
    "        </td>\n",
    "    </tr>\n",
    "    <tr>\n",
    "        <td>\n",
    "            0\n",
    "        </td>\n",
    "        <td>\n",
    "            1\n",
    "        </td>\n",
    "    </tr>\n",
    "    <tr>\n",
    "        <td>\n",
    "            1\n",
    "        </td>\n",
    "        <td>\n",
    "            3\n",
    "        </td>\n",
    "    </tr>\n",
    "    <tr>\n",
    "        <td>\n",
    "            2\n",
    "        </td>\n",
    "        <td>\n",
    "            9\n",
    "        </td>\n",
    "    </tr>\n",
    "    <tr>\n",
    "        <td>\n",
    "            3\n",
    "        </td>\n",
    "        <td>\n",
    "            11\n",
    "        </td>\n",
    "    </tr>\n",
    "    <tr>\n",
    "        <td>\n",
    "            4\n",
    "        </td>\n",
    "        <td>\n",
    "            1\n",
    "        </td>\n",
    "    </tr>\n",
    "    <tr>\n",
    "        <td>\n",
    "            5\n",
    "        </td>\n",
    "        <td>\n",
    "            3\n",
    "        </td>\n",
    "    </tr>\n",
    "    <tr>\n",
    "        <td>\n",
    "            6\n",
    "        </td>\n",
    "        <td>\n",
    "            9\n",
    "        </td>\n",
    "    </tr>\n",
    "    <tr>\n",
    "        <td>\n",
    "            7\n",
    "        </td>\n",
    "        <td>\n",
    "            11\n",
    "        </td>\n",
    "    </tr>\n",
    "    <tr>\n",
    "        <td>\n",
    "            8\n",
    "        </td>\n",
    "        <td>\n",
    "            1\n",
    "        </td>\n",
    "    </tr>\n",
    "    <tr>\n",
    "        <td>\n",
    "            9\n",
    "        </td>\n",
    "        <td>\n",
    "            3\n",
    "        </td>\n",
    "    </tr>\n",
    "    <tr>\n",
    "        <td>\n",
    "            10\n",
    "        </td>\n",
    "        <td>\n",
    "            9\n",
    "        </td>\n",
    "    </tr>\n",
    "    <tr>\n",
    "        <td>\n",
    "            11\n",
    "        </td>\n",
    "        <td>\n",
    "            11\n",
    "        </td>\n",
    "    </tr>\n",
    "    <tr>\n",
    "        <td>\n",
    "            12\n",
    "        </td>\n",
    "        <td>\n",
    "            1\n",
    "        </td>\n",
    "    </tr>\n",
    "    <tr>\n",
    "        <td>\n",
    "            13\n",
    "        </td>\n",
    "        <td>\n",
    "            3\n",
    "        </td>\n",
    "    </tr>\n",
    "    <tr>\n",
    "        <td>\n",
    "            14\n",
    "        </td>\n",
    "        <td>\n",
    "            9\n",
    "        </td>\n",
    "    </tr>\n",
    "    <tr>\n",
    "        <td>\n",
    "            15\n",
    "        </td>\n",
    "        <td>\n",
    "            11\n",
    "        </td>\n",
    "    </tr>\n",
    "</table>\n",
    "\n",
    "As we can see above, by calculating f(x) for all the x's possible, we can see a repeated pattern for $f(x)$. \n",
    "As $f(0+4) = f(0)$ and so on and so forth according to the table above, this translates to a generic fact that for this $f(x)$, $f(x + 4) = f(x)$. This means that period $r$ of the function is equal to 4."
   ]
  },
  {
   "cell_type": "markdown",
   "id": "907697c8",
   "metadata": {},
   "source": [
    "## Problem 4.2\n",
    "\n",
    "Let's see how we could've figured this out using quantum computation!  First, we create a quantum circuit with 8 qubits and 4 classical bits to store measurement outcomes.\n",
    "\n",
    "Add gates to the order finding circuit to get to the following state:\n",
    "\n",
    "$$\n",
    "\\frac{1}{\\sqrt{16}}\\left(\\sum_{i = 0}^{15} \\ket{i}\\right) \\otimes \\ket{0}\n",
    "$$\n",
    "\n",
    "Note that here $\\ket{i}$ and $\\ket{0}$ refer to integers, but in your circuit they will need to be represented in binary using 4 bits."
   ]
  },
  {
   "cell_type": "code",
   "execution_count": 2,
   "id": "3542ca62",
   "metadata": {},
   "outputs": [
    {
     "data": {
      "image/png": "[encoded data removed]",
      "text/plain": [
       "<Figure size 146.797x565.88 with 1 Axes>"
      ]
     },
     "execution_count": 2,
     "metadata": {},
     "output_type": "execute_result"
    }
   ],
   "source": [
    "order_finding_circuit = QuantumCircuit(8,4)\n",
    "\n",
    "### ======== BEGIN CODE =============\n",
    "order_finding_circuit.h([0, 1, 2, 3])\n",
    "### ======== END CODE =============\n",
    "    \n",
    "order_finding_circuit.draw(output=\"mpl\")"
   ]
  },
  {
   "cell_type": "markdown",
   "id": "64a04d4f",
   "metadata": {},
   "source": [
    "## Problem 4.2\n",
    "\n",
    "We provide code that implements the $U_f$ unitary, which acts on 8 qubits (4 for input, 4 for ancilla) as follows:\n",
    "\n",
    "$$\n",
    "    U_f \\ket{i}\\ket{j} = \\ket{i}\\ket{j \\oplus f(i)}\n",
    "$$\n",
    "\n",
    "Append the oracle unitary to your circuit to get the following state\n",
    "$$\n",
    "\\frac{1}{\\sqrt{16}}\\left(\\sum_{i = 0}^{15} \\ket{i} \\otimes \\ket{3^i \\text{ mod } 16}\\right)\n",
    "$$"
   ]
  },
  {
   "cell_type": "code",
   "execution_count": 3,
   "id": "c5e2ca13",
   "metadata": {},
   "outputs": [
    {
     "data": {
      "image/png": "[encoded data removed]",
      "text/plain": [
       "<Figure size 206.997x565.88 with 1 Axes>"
      ]
     },
     "execution_count": 3,
     "metadata": {},
     "output_type": "execute_result"
    }
   ],
   "source": [
    "def reverse_bits(i: int) -> int:\n",
    "    '''\n",
    "    Reverses the bits of a number up to 5 bits (0 through 31)\n",
    "    '''\n",
    "    return int('{:08b}'.format(i)[::-1], 2)\n",
    "\n",
    "#This function returns the UnitaryGate object that you want to append to your circuit\n",
    "def U_f() -> UnitaryGate:\n",
    "    unitary = np.zeros([256, 256])\n",
    "    for i in range(16):\n",
    "        for j in range(16):\n",
    "            input_basis_state = i * 16 + j\n",
    "            exponentiated_j = pow(3, i, 16) ^ j\n",
    "            output_basis_state = i * 16 + exponentiated_j\n",
    "            unitary[reverse_bits(input_basis_state), reverse_bits(output_basis_state)] = 1\n",
    "    return UnitaryGate(unitary,\"U_f\")\n",
    "\n",
    "### ======== BEGIN CODE =============\n",
    "order_finding_circuit.append(U_f(), list(range(8)))\n",
    "### ======== END CODE =============\n",
    "\n",
    "order_finding_circuit.draw(output=\"mpl\")"
   ]
  },
  {
   "cell_type": "markdown",
   "id": "51957a5b",
   "metadata": {},
   "source": [
    "## Problem 4.3 \n",
    "\n",
    "Suppose you measured the second register (the last 4 qubits) of the state described in Problem 4.2. What are the possible outcomes and their probabilities? What are the corresponding post-measurement states?"
   ]
  },
  {
   "cell_type": "markdown",
   "id": "1d0b8f1e",
   "metadata": {},
   "source": [
    "## Solution\n",
    "\n",
    "The first four qubits (or the first register) is basically entangled state of $\\ket{+}$ n times. When we put the unitary on the 8 qubits, the first 4 bits that are entangled are put through that unitary which gives us the formulation in problem 4.2 as follows:\n",
    "\n",
    "$$\n",
    "\\frac{1}{\\sqrt{16}}\\left(\\sum_{i = 0}^{15} \\ket{i} \\otimes \\ket{3^i \\text{ mod } 16}\\right)\n",
    "$$\n",
    "\n",
    "Expanding the summation for all the elements gives us (each number is represented as 4 bits):\n",
    "$$\n",
    "= \\frac{1}{\\sqrt{16}}(\\ket{0000} \\otimes \\ket{0001} + \\ket{0001} \\otimes \\ket{0011} + \\ket{0010} \\otimes \\ket{1001} + \\ket{0011} \\otimes \\ket{1011} + \\ket{0100} \\otimes \\ket{0001} + \\ket{0101} \\otimes \\ket{0011} + \\ket{0110} \\otimes \\ket{1001} + \\ket{0111} \\otimes \\ket{1011} + \\ket{1000} \\otimes \\ket{0001} + \\ket{1001} \\otimes \\ket{0011} + \\ket{1010} \\otimes \\ket{1001} + \\ket{1011} \\otimes \\ket{1011} + \\ket{1100} \\otimes \\ket{0001} + \\ket{1101} \\otimes \\ket{0011} + \\ket{1110} \\otimes \\ket{1001} + \\ket{1111} \\otimes \\ket{1011})\n",
    "$$\n",
    "\n",
    "Pairing up the first register according to second register values (and normailizing the values inside the brackets) gives us:\n",
    "\n",
    "$$\n",
    "= \\frac{\\sqrt{4}}{\\sqrt{16}}\\left(\\frac{(\\ket{0000} + \\ket{0100} + \\ket{1000} + \\ket{1100})}{\\sqrt{4}}\\right) \\otimes \\ket{0001} + \\frac{\\sqrt{4}}{\\sqrt{16}}\\left(\\frac{(\\ket{0001} + \\ket{0101} + \\ket{1001} + \\ket{1101})}{\\sqrt{4}}\\right) \\otimes \\ket{0011} + \\frac{\\sqrt{4}}{\\sqrt{16}}\\left(\\frac{(\\ket{0010} + \\ket{0110} + \\ket{1010} + \\ket{1110})}{\\sqrt{4}}\\right) \\otimes \\ket{1001} + \n",
    "\\frac{\\sqrt{4}}{\\sqrt{16}}\\left(\\frac{(\\ket{0011} + \\ket{0111} + \\ket{1011} + \\ket{1111})}{\\sqrt{4}}\\right) \\otimes \\ket{1011}\n",
    "$$\n",
    "\n",
    "Solving further this gives us:\n",
    "\n",
    "$$\n",
    "= \\frac{1}{\\sqrt{4}}\\left(\\frac{(\\ket{0000} + \\ket{0100} + \\ket{1000} + \\ket{1100})}{\\sqrt{4}}\\right) \\otimes \\ket{0001} + \\frac{1}{\\sqrt{4}}\\left(\\frac{(\\ket{0001} + \\ket{0101} + \\ket{1001} + \\ket{1101})}{\\sqrt{4}}\\right) \\otimes \\ket{0011} + \\frac{1}{\\sqrt{4}}\\left(\\frac{(\\ket{0010} + \\ket{0110} + \\ket{1010} + \\ket{1110})}{\\sqrt{4}}\\right) \\otimes \\ket{1001} + \n",
    "\\frac{1}{\\sqrt{4}}\\left(\\frac{(\\ket{0011} + \\ket{0111} + \\ket{1011} + \\ket{1111})}{\\sqrt{4}}\\right) \\otimes \\ket{1011}\n",
    "$$\n",
    "\n",
    "So, when we measure, the possible outcomes with the probabilities and corresponding post measurement states are as follows:\n",
    "\n",
    "Outcome 1:\n",
    "\n",
    "$\\ket{0001}$ with probability of $25%$ and corresponding post measurement state as $\\frac{(\\ket{0000} + \\ket{0100} + \\ket{1000} + \\ket{1100})}{\\sqrt{4}}$ which can also be written as $\\frac{(\\ket{0} + \\ket{4} + \\ket{8} + \\ket{12})}{\\sqrt{4}}$\n",
    "\n",
    "Outcome 2:\n",
    "\n",
    "$\\ket{0011}$ with probability of $25%$ and corresponding post measurement state as $\\frac{(\\ket{0001} + \\ket{0101} + \\ket{1001} + \\ket{1101})}{\\sqrt{4}}$ which can also be written as $\\frac{(\\ket{1} + \\ket{5} + \\ket{9} + \\ket{13})}{\\sqrt{4}}$\n",
    "\n",
    "Outcome 3:\n",
    "\n",
    "$\\ket{1001}$ with probability of $25%$ and corresponding post measurement state as $\\frac{(\\ket{0010} + \\ket{0110} + \\ket{1010} + \\ket{1110})}{\\sqrt{4}}$ which can also be written as $\\frac{(\\ket{2} + \\ket{6} + \\ket{10} + \\ket{14})}{\\sqrt{4}}$\n",
    "\n",
    "Outcome 4:\n",
    "\n",
    "$\\ket{1011}$ with probability of $25%$ and corresponding post measurement state as $\\frac{(\\ket{0011} + \\ket{0111} + \\ket{1011} + \\ket{1111})}{\\sqrt{4}}$ which can also be written as $\\frac{(\\ket{3} + \\ket{7} + \\ket{11} + \\ket{15})}{\\sqrt{4}}$\n"
   ]
  },
  {
   "cell_type": "markdown",
   "id": "37925904",
   "metadata": {},
   "source": [
    "## Problem 4.4\n",
    "\n",
    "Let's simulate the measurement of the second register and collect measurement statistics. Write code to output the empirical probability of each measurement outcome (for example, the integer $1$ appears $X\\%$ of the time, the integer $3$ occurs $Y\\%$ of the time, etc. ).\n",
    "\n",
    "Note that the convention in Qiskit is to use little-endian representation of integers: the least significant bit goes first (so the ordering goes like $\\ket{0000}, \\ket{1000}, \\ket{0100}, \\ket{1100}, \\ldots$)."
   ]
  },
  {
   "cell_type": "code",
   "execution_count": 4,
   "id": "975b0d23",
   "metadata": {},
   "outputs": [
    {
     "data": {
      "image/png": "[encoded data removed]",
      "text/plain": [
       "<Figure size 447.797x565.88 with 1 Axes>"
      ]
     },
     "execution_count": 4,
     "metadata": {},
     "output_type": "execute_result"
    }
   ],
   "source": [
    "order_finding_circuit.measure([4,5,6,7], [0,1,2,3])\n",
    "order_finding_circuit.draw(output=\"mpl\")"
   ]
  },
  {
   "cell_type": "code",
   "execution_count": 10,
   "id": "2a8f1ee6",
   "metadata": {},
   "outputs": [
    {
     "data": {
      "text/plain": [
       "{'1101': 254, '1001': 247, '1100': 243, '1000': 280}"
      ]
     },
     "execution_count": 10,
     "metadata": {},
     "output_type": "execute_result"
    }
   ],
   "source": [
    "backend = Aer.get_backend(\"statevector_simulator\")\n",
    "result = execute(order_finding_circuit, backend=backend, shots=1024).result()\n",
    "result.get_counts() \n",
    "# Note that the bitstrings are reverse order"
   ]
  },
  {
   "cell_type": "code",
   "execution_count": 11,
   "id": "d43cbba6",
   "metadata": {},
   "outputs": [
    {
     "name": "stdout",
     "output_type": "stream",
     "text": [
      "11 occurs for 24.8% of the time!\n",
      "9 occurs for 24.12% of the time!\n",
      "3 occurs for 23.73% of the time!\n",
      "1 occurs for 27.34% of the time!\n"
     ]
    }
   ],
   "source": [
    "### ======== BEGIN CODE =============\n",
    "total_count = 1024\n",
    "counts_data = result.get_counts()\n",
    "\n",
    "for bin_num, count in counts_data.items():\n",
    "    counter = 0\n",
    "    final_num = 0\n",
    "    for char in bin_num:\n",
    "        final_num += int(char) * (2**counter)\n",
    "        counter += 1\n",
    "    prob = round((count / total_count) * 100, 2)\n",
    "    print(f\"{final_num} occurs for {prob}% of the time!\")\n",
    "\n",
    "### ======== END CODE ============="
   ]
  },
  {
   "cell_type": "markdown",
   "id": "a8d2c752",
   "metadata": {},
   "source": [
    "## Problem 4.5\n",
    "\n",
    "Now let's get the post-measurement state _conditioned_ on the second register measuring $\\ket{j}$ for $j = 3$. First, suppose we measure the second register and obtain outcome $\\ket{3}$. What will the post measurement state on the first register be?"
   ]
  },
  {
   "cell_type": "markdown",
   "id": "567de5ad",
   "metadata": {},
   "source": [
    "## Solution\n",
    "\n",
    "When the second register is measured to be $\\ket{3}$ then, the post measurement state as calculated in problem 4.3 will be:\n",
    "\n",
    "$\\frac{(\\ket{0001} + \\ket{0101} + \\ket{1001} + \\ket{1101})}{\\sqrt{4}}$ which can also be written as $\\frac{(\\ket{1} + \\ket{5} + \\ket{9} + \\ket{13})}{\\sqrt{4}}$"
   ]
  },
  {
   "cell_type": "markdown",
   "id": "0b738943",
   "metadata": {},
   "source": [
    "## Problem 4.6\n",
    "\n",
    "Now let's validate empirically that the post measurement state is what we found above. We've already got some skeleton code for you set up; you should fill in the rest. The result is that the variable `postmeasurement_state` should be the post measurement state of the 8 qubits, conditioned on the second register being in the state $\\ket{3}$ (or, in binary, $\\ket{1100}$).\n",
    "\n"
   ]
  },
  {
   "cell_type": "code",
   "execution_count": 12,
   "id": "cc2327bf",
   "metadata": {},
   "outputs": [],
   "source": [
    "j = 3\n",
    "j_in_rev_binary = '1100' # Note this bitstring is in reverse order. Reversing it, you'll see it encodes the number 3 in binary\n",
    "\n",
    "#just repeating this 100 times until you get the result you want (the number 100 is arbitrary)\n",
    "for k in range(100):\n",
    "    result = execute(order_finding_circuit, backend=backend, shots=1).result()\n",
    "    if list(result.get_counts().keys())[0] == j_in_rev_binary:\n",
    "        break\n",
    "\n",
    "postmeasurement_state = result.get_statevector()  "
   ]
  },
  {
   "cell_type": "markdown",
   "id": "42476fdd",
   "metadata": {},
   "source": [
    "The variable `postmeasurement_state` is a vector of dimension 1024. We are interested in the state of the first register (the first 5 qubits), so let's extract that into a 32-dimensional vector `first_register`. \n",
    "\n",
    "We then plot the squares of the amplitudes of `first_register`. "
   ]
  },
  {
   "cell_type": "code",
   "execution_count": 13,
   "id": "377de788",
   "metadata": {},
   "outputs": [
    {
     "data": {
      "text/plain": [
       "<BarContainer object of 16 artists>"
      ]
     },
     "execution_count": 13,
     "metadata": {},
     "output_type": "execute_result"
    },
    {
     "data": {
      "image/png": "[encoded data removed]",
      "text/plain": [
       "<Figure size 432x288 with 1 Axes>"
      ]
     },
     "metadata": {
      "needs_background": "light"
     },
     "output_type": "display_data"
    }
   ],
   "source": [
    "first_register = []\n",
    "\n",
    "for i in range(16):\n",
    "    index = reverse_bits(i*16 + j)\n",
    "    ampl = postmeasurement_state[index]\n",
    "    first_register.append(ampl)\n",
    "    \n",
    "plt.bar(range(16),[np.absolute(f)**2 for f in first_register])    "
   ]
  },
  {
   "cell_type": "markdown",
   "id": "57f24694",
   "metadata": {},
   "source": [
    "Does the plot agree with your theoretical calculations of the post-measurement state?"
   ]
  },
  {
   "cell_type": "markdown",
   "id": "d1b14615",
   "metadata": {},
   "source": [
    "## Solution\n",
    "\n",
    "Yes, the plot agrees with the theorecical calculations of the post-measurement state!"
   ]
  },
  {
   "cell_type": "markdown",
   "id": "d668c92f",
   "metadata": {},
   "source": [
    "## Problem 4.7\n",
    "\n",
    "Let $\\ket{\\psi}$ denote the post-measurement state corresponding to the variable `first_register`. Suppose we apply the $4$-qubit Fourier Transform unitary $F_{16}$ to $\\ket{\\psi}$ to get the state $\\ket{\\hat{\\psi}}$. \n",
    "\n",
    "First, compute by hand the Fourier transform $F_{16}$ of $\\ket{\\psi}$, and determine an algebraic expression for the amplitudes of $\\ket{\\hat{\\psi}}$. \n",
    "\n",
    "If we then measured $\\ket{\\hat{\\psi}}$ in the standard basis, what outcomes are we most likely to get?\n",
    "\n",
    "**Hint**: Your answers to Problem 1 may be helpful."
   ]
  },
  {
   "cell_type": "markdown",
   "id": "fd76a4ec",
   "metadata": {},
   "source": [
    "## Solution.\n",
    "\n",
    "When we use the recursive structure for $F_N$ taught in class and multiply the same with the state $\\ket{\\psi}$, we will get that:\n",
    "$$\n",
    "F_{16}\\ket{\\psi} = \\frac{1}{4} \\left(\\ket{0} + \\ket{4} + \\ket{8} + \\ket{12}\\right)\n",
    "$$\n",
    "\n",
    "Taking some insight from Problem 1:\n",
    "\n",
    "$F_{16}$ is the change of basis matrix. Following from this,\n",
    "\n",
    "Any $jth$ column of $F_{16}$ can be written as:\n",
    "$$\n",
    "\\frac{1}{4}*\\{1, \\omega_{16}^j, \\omega_{16}^{2j}, \\omega_{16}^{3j}, ..., \\omega_{16}^{15j}\\}^T\n",
    "$$\n",
    "\n",
    "Since, $F_{16}$ is symmetric, any $jth$ row of $F_{16}$ can be written as:\n",
    "$$\n",
    "\\frac{1}{4}*\\{1, \\omega_{16}^j, \\omega_{16}^{2j}, \\omega_{16}^{3j}, ..., \\omega_{16}^{15j}\\}\n",
    "$$\n",
    "\n",
    "Also, since the $ith$ entry is the dot between $ith$ row of $F_{16}$ and $\\ket{\\psi}$, we can formalize the entry as:\n",
    "$$\n",
    "F_{16}\\ket{\\psi}_i = \\frac{1}{4}\\sum_{k=0}^{15} \\omega_{16}^{ik}\\ket{\\psi_{k}}\n",
    "$$\n",
    "\n",
    "Futher, if we measure the outcome of 3, then the post measurement will give us:\n",
    "$$\n",
    "F_{16}\\ket{\\psi} = \\frac{1}{4}\\sum_{k=0}^{15} \\left(\\omega_{16}^{k} + \\omega_{16}^{5k} + \\omega_{16}^{9k} + \\omega_{16}^{13k}\\right)\\ket{k}\n",
    "$$\n",
    "\n",
    "Simplifying the same gives us:\n",
    "$$\n",
    "F_{16}\\ket{\\psi} = \\frac{1}{4} \\left(\\ket{0} + \\ket{4} + \\ket{8} + \\ket{12}\\right)\n",
    "$$\n",
    "\n",
    "Therefore, we get the states $\\ket{0}$, $\\ket{4}$, $\\ket{8}$, and $\\ket{12}$ with equal probability of $\\frac{1}{4}$."
   ]
  },
  {
   "cell_type": "markdown",
   "id": "f26992ae",
   "metadata": {},
   "source": [
    "We now plot the squares of the amplitudes of $\\ket{\\hat{\\psi}}$ below. Does it match your math above?"
   ]
  },
  {
   "cell_type": "markdown",
   "id": "5a94e0cd",
   "metadata": {},
   "source": [
    "Yes, It Does!"
   ]
  },
  {
   "cell_type": "code",
   "execution_count": 14,
   "id": "d727941e",
   "metadata": {},
   "outputs": [
    {
     "data": {
      "text/plain": [
       "<BarContainer object of 16 artists>"
      ]
     },
     "execution_count": 14,
     "metadata": {},
     "output_type": "execute_result"
    },
    {
     "data": {
      "image/png": "[encoded data removed]",
      "text/plain": [
       "<Figure size 432x288 with 1 Axes>"
      ]
     },
     "metadata": {
      "needs_background": "light"
     },
     "output_type": "display_data"
    }
   ],
   "source": [
    "import numpy.fft as fft\n",
    "\n",
    "mean = sum(first_register)/len(first_register)\n",
    "fourier = fft.fft(np.array(first_register) - mean,16, axis = 0)\n",
    "# have to add in the normalization because numpy doesn't do it\n",
    "fourier = fourier/np.sqrt(16)\n",
    "\n",
    "# plot the absolute value squared of the fourier transform\n",
    "plt.bar(range(16),[np.absolute(f)**2 for f in fourier])"
   ]
  },
  {
   "cell_type": "markdown",
   "id": "d3deedc3",
   "metadata": {},
   "source": [
    "## Problem 4.8"
   ]
  },
  {
   "cell_type": "markdown",
   "id": "63d158b0",
   "metadata": {},
   "source": [
    "Suppose you had multiple copies of the state $\\ket{\\hat{\\psi}}$. Explain how, by measuring this state in the standard basis multiple times, one can determine the period $r$ of the function $f(x)$? This should use the algebraic expression for the amplitudes that you obtained in Problem 4.7."
   ]
  },
  {
   "cell_type": "markdown",
   "id": "dfa93b8b",
   "metadata": {},
   "source": [
    "## Solution.\n",
    "\n",
    "When we have multiple copies of the state $\\ket{\\hat{\\psi}}$, we would get the outputs as 0, 4, 8 and 12 with equal probability. By measuring the qubits again and again for the copies, we would get either $\\ket{0}$, $\\ket{4}$, $\\ket{8}$, or $\\ket{12}$ with equal probability. Using this data that we have measured again and again for the copies, we can directly get the period of the function by taking the greatest common divisor of the outputs that are non-zero or we can just take any 2 non-zero outputs and take their gcd. That greatest common divisor will the period of the function $f$."
   ]
  }
 ],
 "metadata": {
  "kernelspec": {
   "display_name": "Python 3",
   "language": "python",
   "name": "python3"
  },
  "language_info": {
   "codemirror_mode": {
    "name": "ipython",
    "version": 3
   },
   "file_extension": ".py",
   "mimetype": "text/x-python",
   "name": "python",
   "nbconvert_exporter": "python",
   "pygments_lexer": "ipython3",
   "version": "3.8.8"
  },
  "vscode": {
   "interpreter": {
    "hash": "0496f9bd3589af8a458940f52e746dd431c597080565717c85ba61b585cc60bf"
   }
  },
  "widgets": {
   "application/vnd.jupyter.widget-state+json": {
    "state": {},
    "version_major": 2,
    "version_minor": 0
   }
  }
 },
 "nbformat": 4,
 "nbformat_minor": 5
}
